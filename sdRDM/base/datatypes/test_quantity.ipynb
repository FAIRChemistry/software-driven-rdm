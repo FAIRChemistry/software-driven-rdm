{
 "cells": [
  {
   "cell_type": "code",
   "execution_count": 49,
   "metadata": {},
   "outputs": [],
   "source": [
    "from sdRDM.base import DataModel"
   ]
  },
  {
   "cell_type": "code",
   "execution_count": 50,
   "metadata": {},
   "outputs": [],
   "source": [
    "lib = DataModel.from_markdown(\"test_dm.md\")"
   ]
  },
  {
   "cell_type": "code",
   "execution_count": 51,
   "metadata": {},
   "outputs": [
    {
     "name": "stdout",
     "output_type": "stream",
     "text": [
      "\u001b[4mUnitStuff\u001b[0m\n",
      "├── \u001b[94mid\u001b[0m = 8fa1134e-a6e4-41fe-8442-022cdee6e6f2\n",
      "└── \u001b[94monly_unit\u001b[0m\n",
      "    └── \u001b[4mUnit\u001b[0m\n",
      "        ├── \u001b[94mid\u001b[0m = 8434a947-65a6-4b23-bdb5-7fda5656051e\n",
      "        ├── \u001b[94mname\u001b[0m = mmol / l\n",
      "        └── \u001b[94mbases\u001b[0m\n",
      "            ├── 0\n",
      "            │   └── \u001b[4mBaseUnit\u001b[0m\n",
      "            │       ├── \u001b[94mscale\u001b[0m = 0.001\n",
      "            │       ├── \u001b[94mkind\u001b[0m = mol\n",
      "            │       └── \u001b[94mexponent\u001b[0m = 1.0\n",
      "            └── 1\n",
      "                └── \u001b[4mBaseUnit\u001b[0m\n",
      "                    ├── \u001b[94mscale\u001b[0m = 1.0\n",
      "                    ├── \u001b[94mkind\u001b[0m = l\n",
      "                    └── \u001b[94mexponent\u001b[0m = -1.0\n",
      "\n"
     ]
    }
   ],
   "source": [
    "unit = lib.UnitStuff(only_unit=\"mmol/l\")\n",
    "print(unit)"
   ]
  },
  {
   "cell_type": "code",
   "execution_count": 52,
   "metadata": {},
   "outputs": [],
   "source": [
    "%reload_ext autoreload\n",
    "%autoreload 2\n",
    "from sdRDM.base.datatypes.quantity import Quantity"
   ]
  },
  {
   "cell_type": "code",
   "execution_count": 53,
   "metadata": {},
   "outputs": [],
   "source": [
    "volume = Quantity(value=4, unit=\"l\")\n",
    "ammount = Quantity(value=2, unit=\"mmol\")"
   ]
  },
  {
   "cell_type": "code",
   "execution_count": 54,
   "metadata": {},
   "outputs": [
    {
     "data": {
      "text/plain": [
       "Quantity(id='a476d64d-ac25-4285-a4bc-06ed90087944', value=0.5, unit=Unit(id='2dbbfb17-98cf-41bb-85a1-eab68d4ae608', name='mmol / l', bases=[BaseUnit(scale=0.001, kind=Unit(\"mol\"), exponent=1.0), BaseUnit(scale=1.0, kind=Unit(\"l\"), exponent=-1.0)]))"
      ]
     },
     "execution_count": 54,
     "metadata": {},
     "output_type": "execute_result"
    }
   ],
   "source": [
    "conc = ammount / volume\n",
    "conc"
   ]
  },
  {
   "cell_type": "code",
   "execution_count": 55,
   "metadata": {},
   "outputs": [
    {
     "data": {
      "text/plain": [
       "Quantity(id='0170149a-ae7a-48a5-8cff-100c4e863497', value=4, unit=Unit(id='877589fc-26c3-4337-8e84-44fa142f3171', name='l', bases=[BaseUnit(scale=1.0, kind=Unit(\"l\"), exponent=1.0)]))"
      ]
     },
     "execution_count": 55,
     "metadata": {},
     "output_type": "execute_result"
    }
   ],
   "source": [
    "volume"
   ]
  },
  {
   "cell_type": "code",
   "execution_count": 56,
   "metadata": {},
   "outputs": [
    {
     "data": {
      "text/plain": [
       "Quantity(id='5ee41bd8-a9f1-4f68-80f8-211e68ea2f1d', value=5.0, unit=Unit(id='9b126978-bc26-4db3-b38d-ce73d7cdf72e', name='mmol', bases=[BaseUnit(scale=0.001, kind=Unit(\"mol\"), exponent=1.0)]))"
      ]
     },
     "execution_count": 56,
     "metadata": {},
     "output_type": "execute_result"
    }
   ],
   "source": [
    "ammount + 3"
   ]
  },
  {
   "cell_type": "code",
   "execution_count": 57,
   "metadata": {},
   "outputs": [
    {
     "name": "stdout",
     "output_type": "stream",
     "text": [
      "\u001b[4mQuantity\u001b[0m\n",
      "├── \u001b[94mid\u001b[0m = 36f9202f-1825-4d76-b48e-814d687bd440\n",
      "├── \u001b[94mvalue\u001b[0m = 2.5\n",
      "└── \u001b[94munit\u001b[0m\n",
      "    └── \u001b[4mUnit\u001b[0m\n",
      "        ├── \u001b[94mid\u001b[0m = a3f6a2a4-46d6-441e-b4be-b84aa792b8e4\n",
      "        ├── \u001b[94mname\u001b[0m = mmol / l\n",
      "        └── \u001b[94mbases\u001b[0m\n",
      "            ├── 0\n",
      "            │   └── \u001b[4mBaseUnit\u001b[0m\n",
      "            │       ├── \u001b[94mscale\u001b[0m = 0.001\n",
      "            │       ├── \u001b[94mkind\u001b[0m = mol\n",
      "            │       └── \u001b[94mexponent\u001b[0m = 1.0\n",
      "            └── 1\n",
      "                └── \u001b[4mBaseUnit\u001b[0m\n",
      "                    ├── \u001b[94mscale\u001b[0m = 1.0\n",
      "                    ├── \u001b[94mkind\u001b[0m = l\n",
      "                    └── \u001b[94mexponent\u001b[0m = -1.0\n",
      "\n"
     ]
    }
   ],
   "source": [
    "print(conc * 5)"
   ]
  },
  {
   "cell_type": "code",
   "execution_count": 58,
   "metadata": {},
   "outputs": [
    {
     "data": {
      "text/latex": [
       "$\\mathrm{\\frac{mmol}{\\mathcal{l}}}$"
      ],
      "text/plain": [
       "Unit(\"mmol / l\")"
      ]
     },
     "execution_count": 58,
     "metadata": {},
     "output_type": "execute_result"
    }
   ],
   "source": [
    "conc.unit._unit"
   ]
  },
  {
   "cell_type": "code",
   "execution_count": 61,
   "metadata": {},
   "outputs": [
    {
     "data": {
      "text/plain": [
       "True"
      ]
     },
     "execution_count": 61,
     "metadata": {},
     "output_type": "execute_result"
    }
   ],
   "source": [
    "Quantity(value=1, unit=\"mm\") == Quantity(value=1, unit=\"mm\")"
   ]
  },
  {
   "cell_type": "code",
   "execution_count": 68,
   "metadata": {},
   "outputs": [
    {
     "data": {
      "text/plain": [
       "False"
      ]
     },
     "execution_count": 68,
     "metadata": {},
     "output_type": "execute_result"
    }
   ],
   "source": [
    "q1 = Quantity(value=1, unit=\"mm\")\n",
    "q2 = Quantity(value=1, unit=\"mm\")\n",
    "\n",
    "q1.__eq__(q2) is True"
   ]
  },
  {
   "cell_type": "code",
   "execution_count": 73,
   "metadata": {},
   "outputs": [
    {
     "data": {
      "text/plain": [
       "False"
      ]
     },
     "execution_count": 73,
     "metadata": {},
     "output_type": "execute_result"
    }
   ],
   "source": [
    "Quantity(value=1000, unit=\"mm\") == \"abx\""
   ]
  }
 ],
 "metadata": {
  "kernelspec": {
   "display_name": "sdrdm",
   "language": "python",
   "name": "python3"
  },
  "language_info": {
   "codemirror_mode": {
    "name": "ipython",
    "version": 3
   },
   "file_extension": ".py",
   "mimetype": "text/x-python",
   "name": "python",
   "nbconvert_exporter": "python",
   "pygments_lexer": "ipython3",
   "version": "3.11.3"
  }
 },
 "nbformat": 4,
 "nbformat_minor": 2
}

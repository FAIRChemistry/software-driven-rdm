{
 "cells": [
  {
   "cell_type": "code",
   "execution_count": 3,
   "metadata": {},
   "outputs": [],
   "source": [
    "from sdRDM.base import DataModel"
   ]
  },
  {
   "cell_type": "code",
   "execution_count": 10,
   "metadata": {},
   "outputs": [],
   "source": [
    "lib = DataModel.from_markdown(\"test_dm.md\")"
   ]
  },
  {
   "cell_type": "code",
   "execution_count": 51,
   "metadata": {},
   "outputs": [
    {
     "name": "stdout",
     "output_type": "stream",
     "text": [
      "\u001b[4mUnitStuff\u001b[0m\n",
      "├── \u001b[94mid\u001b[0m = 1b363563-32df-41b2-a4ae-4335cb0f9f6a\n",
      "└── \u001b[94monly_unit\u001b[0m\n",
      "    └── \u001b[4mUnit\u001b[0m\n",
      "        ├── \u001b[94mid\u001b[0m = c996f871-1563-4f3e-a32a-ff01669bf504\n",
      "        ├── \u001b[94mname\u001b[0m = mmol / l\n",
      "        └── \u001b[94mbases\u001b[0m\n",
      "            ├── 0\n",
      "            │   └── \u001b[4mBaseUnit\u001b[0m\n",
      "            │       ├── \u001b[94mscale\u001b[0m = 0.001\n",
      "            │       ├── \u001b[94mkind\u001b[0m = mol\n",
      "            │       └── \u001b[94mexponent\u001b[0m = 1.0\n",
      "            └── 1\n",
      "                └── \u001b[4mBaseUnit\u001b[0m\n",
      "                    ├── \u001b[94mscale\u001b[0m = 1.0\n",
      "                    ├── \u001b[94mkind\u001b[0m = l\n",
      "                    └── \u001b[94mexponent\u001b[0m = -1.0\n",
      "\n"
     ]
    }
   ],
   "source": [
    "unit = lib.UnitStuff(only_unit=\"mmol/l\")\n",
    "print(unit)"
   ]
  },
  {
   "cell_type": "code",
   "execution_count": 102,
   "metadata": {},
   "outputs": [],
   "source": [
    "%reload_ext autoreload\n",
    "%autoreload 2\n",
    "from sdRDM.base.datatypes.quantity import Quantity"
   ]
  },
  {
   "cell_type": "code",
   "execution_count": 103,
   "metadata": {},
   "outputs": [],
   "source": [
    "volume = Quantity(value=4, unit=\"l\")\n",
    "ammount = Quantity(value=2, unit=\"mmol\")"
   ]
  },
  {
   "cell_type": "code",
   "execution_count": 118,
   "metadata": {},
   "outputs": [
    {
     "data": {
      "text/plain": [
       "Quantity(id='e3f7c36b-0e73-43af-9f98-f3f36749bca4', value=0.5, unit=Unit(id='8914dfab-52ef-48aa-9abc-a9bf520f8035', name='mmol / l', bases=[BaseUnit(scale=0.001, kind=Unit(\"mol\"), exponent=1.0), BaseUnit(scale=1.0, kind=Unit(\"l\"), exponent=-1.0)]))"
      ]
     },
     "execution_count": 118,
     "metadata": {},
     "output_type": "execute_result"
    }
   ],
   "source": [
    "conc = ammount / volume\n",
    "conc"
   ]
  },
  {
   "cell_type": "code",
   "execution_count": 119,
   "metadata": {},
   "outputs": [
    {
     "data": {
      "text/plain": [
       "Quantity(id='fc034cf1-e868-4de7-85e2-4359a4d78a8e', value=4.0, unit=Unit(id='699e2af1-865b-4351-9634-a8ead9e15e22', name='l', bases=[BaseUnit(scale=1.0, kind=Unit(\"l\"), exponent=1.0)]))"
      ]
     },
     "execution_count": 119,
     "metadata": {},
     "output_type": "execute_result"
    }
   ],
   "source": [
    "volume"
   ]
  },
  {
   "cell_type": "code",
   "execution_count": 121,
   "metadata": {},
   "outputs": [
    {
     "data": {
      "text/plain": [
       "Quantity(id='3dab6ffb-04e6-4131-a2d6-00ca32181d19', value=5.0, unit=Unit(id='6fda2341-d0b5-4991-a93c-d0d4850be84e', name='mmol', bases=[BaseUnit(scale=0.001, kind=Unit(\"mol\"), exponent=1.0)]))"
      ]
     },
     "execution_count": 121,
     "metadata": {},
     "output_type": "execute_result"
    }
   ],
   "source": [
    "ammount + 3"
   ]
  }
 ],
 "metadata": {
  "kernelspec": {
   "display_name": "sdrdm",
   "language": "python",
   "name": "python3"
  },
  "language_info": {
   "codemirror_mode": {
    "name": "ipython",
    "version": 3
   },
   "file_extension": ".py",
   "mimetype": "text/x-python",
   "name": "python",
   "nbconvert_exporter": "python",
   "pygments_lexer": "ipython3",
   "version": "3.11.3"
  }
 },
 "nbformat": 4,
 "nbformat_minor": 2
}

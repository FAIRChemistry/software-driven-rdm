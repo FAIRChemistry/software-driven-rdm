{
 "cells": [
  {
   "cell_type": "markdown",
   "id": "3dbe67f7-f9ae-431a-9ae9-8bd532b66a09",
   "metadata": {},
   "source": [
    "## sdRDM\n",
    "\n",
    "sdRDM is a library that facilitates the concepct of Software-Driven Research Data Management where data standards are initially defined by Software requirements rather than formats. The sdRDM library provides several formats to which the data can be exported [JSON, XML, YAML, ProtoBuf (WIP)].\n",
    "\n",
    "In order to use sdRDM, simply decorate your class definitions that represent your data model. It is necessary to use the Field class to include more metadata of your choice to each attribute. Specifically for the XML export, use the \"xml\" keyword to denote whether the field is an XML-Attribute or -Element. If not, the default is the XML-Element. In addition you can also add a description, which will be used in the schema export."
   ]
  },
  {
   "cell_type": "code",
   "execution_count": 1,
   "id": "74c9b2c6-cb64-4d57-b8f3-4ea5b3a98e2b",
   "metadata": {},
   "outputs": [],
   "source": [
    "from sdRDM import SoftData, Field"
   ]
  },
  {
   "cell_type": "code",
   "execution_count": 2,
   "id": "ab199885-aafc-4e48-b509-02cc2ddd0922",
   "metadata": {},
   "outputs": [],
   "source": [
    "@SoftData.model\n",
    "class Product:\n",
    "\n",
    "    name: str = Field()\n",
    "    price: float = Field()\n",
    "\n",
    "@SoftData.model\n",
    "class Customer:\n",
    "    \n",
    "    # This class demonstrates the usage of a nested model\n",
    "    # where multiples of another class are inserted.\n",
    "    \n",
    "    name: str = Field(xml=\"attribute\")\n",
    "    purchases: list[Product] = Field(xml=\"element\", default_factory=list)\n",
    "\n",
    "@SoftData.model\n",
    "class CustomerDatabase:\n",
    "\n",
    "    customers: list[Customer] = Field(xml=\"element\", default_factory=list)"
   ]
  },
  {
   "cell_type": "code",
   "execution_count": 12,
   "id": "3f78eb17-4244-47c6-83d2-74fc14bdf1fa",
   "metadata": {},
   "outputs": [],
   "source": [
    "# Use the model as you would with any other class object\n",
    "customer_db = CustomerDatabase()\n",
    "\n",
    "# Create the customers\n",
    "customer_1 = Customer(name=\"Max\", purchases=[Product(name=\"Soap\", price=10.00)])\n",
    "customer_2 = Customer(name=\"Peter\", purchases=[Product(name=\"Meatloaf\", price=15.00)])\n",
    "\n",
    "# Add the customers to the data model\n",
    "customer_db.customers.extend([customer_1, customer_2])"
   ]
  },
  {
   "cell_type": "markdown",
   "id": "eb4b3966-1a25-493a-bedf-34b1a61992c7",
   "metadata": {},
   "source": [
    "## Export and Import\n",
    "\n",
    "The sdRDM library supports export and parsing of various data formats such as JSON, XML, YAML and ProtoBuf (WIP). In the following section the **export** and **import** will be demonstrated. "
   ]
  },
  {
   "cell_type": "code",
   "execution_count": 10,
   "id": "f41bea46-4561-46aa-85f4-3f7e8f7b474e",
   "metadata": {},
   "outputs": [
    {
     "name": "stdout",
     "output_type": "stream",
     "text": [
      "{\n",
      "  \"customers\": [\n",
      "    {\n",
      "      \"name\": \"Max\",\n",
      "      \"purchases\": [\n",
      "        {\n",
      "          \"name\": \"Soap\",\n",
      "          \"price\": 10.0\n",
      "        }\n",
      "      ]\n",
      "    },\n",
      "    {\n",
      "      \"name\": \"Peter\",\n",
      "      \"purchases\": [\n",
      "        {\n",
      "          \"name\": \"Meatloaf\",\n",
      "          \"price\": 15.0\n",
      "        }\n",
      "      ]\n",
      "    }\n",
      "  ]\n",
      "}\n"
     ]
    }
   ],
   "source": [
    "# JSON export\n",
    "json_string = customer_db.to_json()\n",
    "print(json_string)"
   ]
  },
  {
   "cell_type": "code",
   "execution_count": 7,
   "id": "7b770158-6a21-4245-ac68-7bb470c33b4a",
   "metadata": {},
   "outputs": [
    {
     "data": {
      "text/plain": [
       "CustomerDatabase(customers=[Customer(name='Max', purchases=[Product(name='Soap', price=10.0)]), Customer(name='Peter', purchases=[Product(name='Meatloaf', price=15.0)])])"
      ]
     },
     "execution_count": 7,
     "metadata": {},
     "output_type": "execute_result"
    }
   ],
   "source": [
    "# JSON import\n",
    "CustomerDatabase.from_json_string(json_string)"
   ]
  },
  {
   "cell_type": "code",
   "execution_count": 7,
   "id": "8f39979b-2eca-4330-ba87-83fc4d3fd05b",
   "metadata": {},
   "outputs": [
    {
     "name": "stdout",
     "output_type": "stream",
     "text": [
      "<?xml version='1.0' encoding='ASCII'?>\n",
      "<CustomerDatabase>\n",
      "  <Customers>\n",
      "    <Customer name=\"Max\">\n",
      "      <Purchases>\n",
      "        <Product>\n",
      "          <Name>Soap</Name>\n",
      "          <Price>10.0</Price>\n",
      "        </Product>\n",
      "      </Purchases>\n",
      "    </Customer>\n",
      "    <Customer name=\"Peter\">\n",
      "      <Purchases>\n",
      "        <Product>\n",
      "          <Name>Meatloaf</Name>\n",
      "          <Price>15.0</Price>\n",
      "        </Product>\n",
      "      </Purchases>\n",
      "    </Customer>\n",
      "  </Customers>\n",
      "</CustomerDatabase>\n",
      "\n"
     ]
    }
   ],
   "source": [
    "# XML export\n",
    "xml_string = customer_db.to_xml()\n",
    "print(xml_string)"
   ]
  },
  {
   "cell_type": "code",
   "execution_count": null,
   "id": "db50c424-b222-48c9-bc61-d62f60a20eb8",
   "metadata": {},
   "outputs": [],
   "source": []
  }
 ],
 "metadata": {
  "interpreter": {
   "hash": "061c0415761b2a98bc48a04d5937821b4d43b459095301c942b663f6105c810c"
  },
  "kernelspec": {
   "display_name": "Python 3",
   "language": "python",
   "name": "python3"
  },
  "language_info": {
   "codemirror_mode": {
    "name": "ipython",
    "version": 3
   },
   "file_extension": ".py",
   "mimetype": "text/x-python",
   "name": "python",
   "nbconvert_exporter": "python",
   "pygments_lexer": "ipython3",
   "version": "3.9.9"
  }
 },
 "nbformat": 4,
 "nbformat_minor": 5
}

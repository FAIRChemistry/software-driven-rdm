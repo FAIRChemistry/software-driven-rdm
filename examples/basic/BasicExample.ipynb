{
 "cells": [
  {
   "cell_type": "code",
   "execution_count": 1,
   "metadata": {},
   "outputs": [],
   "source": [
    "import rich\n",
    "\n",
    "from sdRDM import DataModel"
   ]
  },
  {
   "cell_type": "markdown",
   "metadata": {},
   "source": [
    "### Code Generation"
   ]
  },
  {
   "cell_type": "code",
   "execution_count": 2,
   "metadata": {},
   "outputs": [],
   "source": [
    "# There are two options for using your model\n",
    "# 1. Generate code from the model via CLI and use it in your project\n",
    "\n",
    "!sdRDM generate --path ./model.md --out . --name MyLibrary\n",
    "\n",
    "# This will generate a library called MyLibrary in the current directory\n",
    "# You can use it like any other python library"
   ]
  },
  {
   "cell_type": "code",
   "execution_count": 3,
   "metadata": {},
   "outputs": [
    {
     "data": {
      "text/plain": [
       "\u001b[96mObjects\u001b[0m MyObject, AnotherObject"
      ]
     },
     "execution_count": 3,
     "metadata": {},
     "output_type": "execute_result"
    }
   ],
   "source": [
    "# 2. You can use the model directly in your code without generating code\n",
    "#\n",
    "# This will result in an object that hold all your class definitions\n",
    "\n",
    "lib = DataModel.from_markdown(\"./model.md\")\n",
    "lib"
   ]
  },
  {
   "cell_type": "markdown",
   "metadata": {},
   "source": [
    "### Populating data models"
   ]
  },
  {
   "cell_type": "code",
   "execution_count": 4,
   "metadata": {},
   "outputs": [
    {
     "name": "stdout",
     "output_type": "stream",
     "text": [
      "\u001b[4mMyObject\u001b[0m\n",
      "├── \u001b[94mid\u001b[0m = 1c3c149a-cee9-4d73-abcb-8584dc44cf42\n",
      "├── \u001b[94mattribute\u001b[0m = value\n",
      "├── \u001b[94mmandatory_attribute\u001b[0m = 100.0\n",
      "├── \u001b[94marray_attribute\u001b[0m = [1.0, 2.0, 3.0, ...]\n",
      "└── \u001b[94mobject_attribute\u001b[0m\n",
      "    └── \u001b[4mAnotherObject\u001b[0m\n",
      "        ├── \u001b[94mid\u001b[0m = b872433e-1bd3-4070-95f8-a1d5e40c18af\n",
      "        └── \u001b[94msmall_type\u001b[0m\n",
      "            └── \u001b[4mSmallType\u001b[0m\n",
      "                └── \u001b[94mid\u001b[0m = 3bbfd441-b36a-42ee-af51-9bf33f49977c\n",
      "\n"
     ]
    }
   ],
   "source": [
    "# Using an object and populating it with data\n",
    "\n",
    "dataset = lib.MyObject(\n",
    "    attribute=\"value\",\n",
    "    mandatory_attribute=100.0,\n",
    "    array_attribute=[1, 2, 3],\n",
    ")\n",
    "\n",
    "# To inspect the content of the object, simply print it\n",
    "# to receive a tree representation of the object\n",
    "\n",
    "print(dataset)"
   ]
  },
  {
   "cell_type": "code",
   "execution_count": 5,
   "metadata": {},
   "outputs": [
    {
     "name": "stdout",
     "output_type": "stream",
     "text": [
      "\u001b[4mMyObject\u001b[0m\n",
      "├── \u001b[94mid\u001b[0m = 1c3c149a-cee9-4d73-abcb-8584dc44cf42\n",
      "├── \u001b[94mattribute\u001b[0m = value\n",
      "├── \u001b[94mmandatory_attribute\u001b[0m = 100.0\n",
      "├── \u001b[94marray_attribute\u001b[0m = [1.0, 2.0, 3.0, ...]\n",
      "└── \u001b[94mobject_attribute\u001b[0m\n",
      "    └── \u001b[4mAnotherObject\u001b[0m\n",
      "        ├── \u001b[94mid\u001b[0m = b872433e-1bd3-4070-95f8-a1d5e40c18af\n",
      "        └── \u001b[94msmall_type\u001b[0m\n",
      "            └── \u001b[4mSmallType\u001b[0m\n",
      "                ├── \u001b[94mid\u001b[0m = 3bbfd441-b36a-42ee-af51-9bf33f49977c\n",
      "                ├── \u001b[94mvalue\u001b[0m = 1.0\n",
      "                └── \u001b[94mname\u001b[0m = Small Object\n",
      "\n"
     ]
    }
   ],
   "source": [
    "# As you might have noticed, the attribute `object:attribute` is already added.\n",
    "# This is due to the fact that whenever a sub object contains no mandatory attributes,\n",
    "# it is added by default. No worries, upon export empty objects will not be included.\n",
    "\n",
    "# You can now easily set attributes of the object\n",
    "\n",
    "dataset.object_attribute.small_type.name = \"Small Object\"\n",
    "dataset.object_attribute.small_type.value = 1.0\n",
    "\n",
    "# And inspect the result ...\n",
    "\n",
    "print(dataset)"
   ]
  },
  {
   "cell_type": "code",
   "execution_count": 6,
   "metadata": {},
   "outputs": [
    {
     "name": "stdout",
     "output_type": "stream",
     "text": [
      ">>> The added object\n",
      "\n",
      "\u001b[4mAnotherObject\u001b[0m\n",
      "├── \u001b[94mid\u001b[0m = 74650043-24a4-4621-bf72-4c7d8e1d7eea\n",
      "└── \u001b[94msmall_type\u001b[0m\n",
      "    └── \u001b[4mSmallType\u001b[0m\n",
      "        ├── \u001b[94mid\u001b[0m = d3bfacd1-250f-4f94-9997-a5e3f5c4490d\n",
      "        ├── \u001b[94mvalue\u001b[0m = 100.0\n",
      "        └── \u001b[94mname\u001b[0m = I am a small object\n",
      "\n",
      ">>> The dataset\n",
      "\n",
      "\u001b[4mMyObject\u001b[0m\n",
      "├── \u001b[94mid\u001b[0m = 1c3c149a-cee9-4d73-abcb-8584dc44cf42\n",
      "├── \u001b[94mattribute\u001b[0m = value\n",
      "├── \u001b[94mmandatory_attribute\u001b[0m = 100.0\n",
      "├── \u001b[94marray_attribute\u001b[0m = [1.0, 2.0, 3.0, ...]\n",
      "├── \u001b[94mobject_attribute\u001b[0m\n",
      "│   └── \u001b[4mAnotherObject\u001b[0m\n",
      "│       ├── \u001b[94mid\u001b[0m = b872433e-1bd3-4070-95f8-a1d5e40c18af\n",
      "│       └── \u001b[94msmall_type\u001b[0m\n",
      "│           └── \u001b[4mSmallType\u001b[0m\n",
      "│               ├── \u001b[94mid\u001b[0m = 3bbfd441-b36a-42ee-af51-9bf33f49977c\n",
      "│               ├── \u001b[94mvalue\u001b[0m = 1.0\n",
      "│               └── \u001b[94mname\u001b[0m = Small Object\n",
      "└── \u001b[94mmultiple_object_attribute\u001b[0m\n",
      "    └── 0\n",
      "        └── \u001b[4mAnotherObject\u001b[0m\n",
      "            ├── \u001b[94mid\u001b[0m = 74650043-24a4-4621-bf72-4c7d8e1d7eea\n",
      "            └── \u001b[94msmall_type\u001b[0m\n",
      "                └── \u001b[4mSmallType\u001b[0m\n",
      "                    ├── \u001b[94mid\u001b[0m = d3bfacd1-250f-4f94-9997-a5e3f5c4490d\n",
      "                    ├── \u001b[94mvalue\u001b[0m = 200.0\n",
      "                    └── \u001b[94mname\u001b[0m = I am a small object\n",
      "\n"
     ]
    }
   ],
   "source": [
    "# We are still missing the `multiple_object_attribute` which is a reference \n",
    "# to another object and also an array attribute\n",
    "\n",
    "# The generated code containes adder-methods to simply add objects\n",
    "# without the need of creatiung the object first\n",
    "\n",
    "added_object = dataset.add_to_multiple_object_attribute(\n",
    "    small_type={\n",
    "        \"value\": 100.0,\n",
    "        \"name\": \"I am a small object\"\n",
    "    }\n",
    ")\n",
    "\n",
    "print(\">>> The added object\", added_object, sep=\"\\n\\n\")\n",
    "\n",
    "# This method will also return a reference to the newly added object\n",
    "# which you can edit directly or add to other things in your code\n",
    "\n",
    "added_object.small_type.value = 200.0\n",
    "\n",
    "print(\">>> The dataset\", dataset, sep=\"\\n\\n\")"
   ]
  },
  {
   "cell_type": "markdown",
   "metadata": {},
   "source": [
    "### Special case: Units"
   ]
  },
  {
   "cell_type": "code",
   "execution_count": 7,
   "metadata": {},
   "outputs": [
    {
     "name": "stdout",
     "output_type": "stream",
     "text": [
      "\u001b[4mUnit\u001b[0m\n",
      "├── \u001b[94mid\u001b[0m = 20bb7877-3161-4d68-b766-379d86d1c83d\n",
      "├── \u001b[94mname\u001b[0m = mmol / l\n",
      "└── \u001b[94mbases\u001b[0m\n",
      "    ├── 0\n",
      "    │   └── \u001b[4mBaseUnit\u001b[0m\n",
      "    │       ├── \u001b[94mscale\u001b[0m = 0.001\n",
      "    │       ├── \u001b[94mkind\u001b[0m = mol\n",
      "    │       └── \u001b[94mexponent\u001b[0m = 1.0\n",
      "    └── 1\n",
      "        └── \u001b[4mBaseUnit\u001b[0m\n",
      "            ├── \u001b[94mscale\u001b[0m = 1.0\n",
      "            ├── \u001b[94mkind\u001b[0m = l\n",
      "            └── \u001b[94mexponent\u001b[0m = -1.0\n",
      "\n",
      "Nice looking LaTeX representation:\n"
     ]
    },
    {
     "data": {
      "text/latex": [
       "$\\mathrm{\\frac{mmol}{\\mathcal{l}}}$"
      ],
      "text/plain": [
       "Unit(\"mmol / l\")"
      ]
     },
     "execution_count": 7,
     "metadata": {},
     "output_type": "execute_result"
    }
   ],
   "source": [
    "# Out of the box the library supports units that can be used in your model\n",
    "# These can be initialized as a string, but will later on be decomposed into\n",
    "# base units to allow for easy conversion.\n",
    "\n",
    "# sdRDM utilizes astropy.units for unit handling and conversion\n",
    "\n",
    "dataset.some_unit = \"mmol / l\"\n",
    "\n",
    "print(dataset.some_unit)\n",
    "\n",
    "# You can access the astropy unit object via the `_unit` attribute\n",
    "print(\"Nice looking LaTeX representation:\")\n",
    "dataset.some_unit._unit"
   ]
  },
  {
   "cell_type": "markdown",
   "metadata": {},
   "source": [
    "### Model navigation and filtering"
   ]
  },
  {
   "cell_type": "code",
   "execution_count": 8,
   "metadata": {},
   "outputs": [
    {
     "data": {
      "text/plain": [
       "[Path(/id),\n",
       " Path(/attribute),\n",
       " Path(/mandatory_attribute),\n",
       " Path(/array_attribute/0),\n",
       " Path(/array_attribute/1),\n",
       " Path(/array_attribute/2),\n",
       " Path(/object_attribute/id),\n",
       " Path(/object_attribute/small_type/id),\n",
       " Path(/object_attribute/small_type/value),\n",
       " Path(/object_attribute/small_type/name),\n",
       " Path(/multiple_object_attribute/0/id),\n",
       " Path(/multiple_object_attribute/0/small_type/id),\n",
       " Path(/multiple_object_attribute/0/small_type/value),\n",
       " Path(/multiple_object_attribute/0/small_type/name),\n",
       " Path(/some_unit/id),\n",
       " Path(/some_unit/name),\n",
       " Path(/some_unit/bases/0/scale),\n",
       " Path(/some_unit/bases/0/kind),\n",
       " Path(/some_unit/bases/0/exponent),\n",
       " Path(/some_unit/bases/1/scale),\n",
       " Path(/some_unit/bases/1/kind),\n",
       " Path(/some_unit/bases/1/exponent)]"
      ]
     },
     "execution_count": 8,
     "metadata": {},
     "output_type": "execute_result"
    }
   ],
   "source": [
    "# This has grown a lot, doesnt it? But we are not done yet. Navigating through\n",
    "# heavily nested objects can be a pain. Therefore, sdRDM provides a simple method\n",
    "# to get an object by its path, but first, lets see how we can find all paths!\n",
    "\n",
    "dataset.paths(leaves=True)"
   ]
  },
  {
   "cell_type": "code",
   "execution_count": 9,
   "metadata": {},
   "outputs": [
    {
     "data": {
      "text/plain": [
       "'I am a small object'"
      ]
     },
     "execution_count": 9,
     "metadata": {},
     "output_type": "execute_result"
    }
   ],
   "source": [
    "# Now that we know all paths, we can use them to get the object we want\n",
    "\n",
    "dataset.get(\"/multiple_object_attribute/0/small_type/name\")"
   ]
  },
  {
   "cell_type": "code",
   "execution_count": 10,
   "metadata": {},
   "outputs": [
    {
     "data": {
      "text/plain": [
       "['array_attribute',\n",
       " 'attribute',\n",
       " 'id',\n",
       " 'mandatory_attribute',\n",
       " 'multiple_object_attribute',\n",
       " 'multiple_object_attribute/id',\n",
       " 'multiple_object_attribute/small_type',\n",
       " 'multiple_object_attribute/small_type/id',\n",
       " 'multiple_object_attribute/small_type/name',\n",
       " 'multiple_object_attribute/small_type/value',\n",
       " 'object_attribute',\n",
       " 'object_attribute/id',\n",
       " 'object_attribute/small_type',\n",
       " 'object_attribute/small_type/id',\n",
       " 'object_attribute/small_type/name',\n",
       " 'object_attribute/small_type/value',\n",
       " 'some_unit',\n",
       " 'some_unit/bases',\n",
       " 'some_unit/bases/exponent',\n",
       " 'some_unit/bases/kind',\n",
       " 'some_unit/bases/scale',\n",
       " 'some_unit/id',\n",
       " 'some_unit/name']"
      ]
     },
     "execution_count": 10,
     "metadata": {},
     "output_type": "execute_result"
    }
   ],
   "source": [
    "# Nice! But if you look closely you will notice that each path also\n",
    "# contains a number, if the object is an array. This is a very precise\n",
    "# way of getting an object, but it is also very verbose. Therefore, you can\n",
    "# also use so called `meta_paths` to get all the objects you want.\n",
    "\n",
    "dataset.meta_paths()"
   ]
  },
  {
   "cell_type": "code",
   "execution_count": 11,
   "metadata": {},
   "outputs": [
    {
     "data": {
      "text/plain": [
       "[SmallType(id='d3bfacd1-250f-4f94-9997-a5e3f5c4490d', value=200.0, name='I am a small object'),\n",
       " SmallType(id='a9cc7165-35b8-41b9-8ad5-592280e0b52a', value=100.0, name='Another small object')]"
      ]
     },
     "execution_count": 11,
     "metadata": {},
     "output_type": "execute_result"
    }
   ],
   "source": [
    "# Lets add another object to the array and try to get all small objects\n",
    "# since we are not interested in `AnotherObject` - its context\n",
    "\n",
    "_ = dataset.add_to_multiple_object_attribute(\n",
    "    small_type={\n",
    "        \"name\": \"Another small object\",\n",
    "        \"value\": 100.0\n",
    "    }\n",
    ")\n",
    "\n",
    "# Now we can get all small objects by using the meta path\n",
    "\n",
    "dataset.get(\"multiple_object_attribute/small_type\")"
   ]
  },
  {
   "cell_type": "code",
   "execution_count": 12,
   "metadata": {},
   "outputs": [
    {
     "data": {
      "text/plain": [
       "[SmallType(id='d3bfacd1-250f-4f94-9997-a5e3f5c4490d', value=200.0, name='I am a small object')]"
      ]
     },
     "execution_count": 12,
     "metadata": {},
     "output_type": "execute_result"
    }
   ],
   "source": [
    "# Awesome! Saved a lot of code and time. But what if we want to get a specific object?\n",
    "# Lets try to extract only those that contain a certain ID\n",
    "\n",
    "dataset.get(\n",
    "    \"multiple_object_attribute/small_type\",    \n",
    "    attribute=\"name\",\n",
    "    target=\"I am a small object\"\n",
    ")"
   ]
  },
  {
   "cell_type": "markdown",
   "metadata": {},
   "source": [
    "### Export and import of datasets"
   ]
  },
  {
   "cell_type": "code",
   "execution_count": 13,
   "metadata": {},
   "outputs": [
    {
     "data": {
      "text/html": [
       "<pre style=\"white-space:pre;overflow-x:auto;line-height:normal;font-family:Menlo,'DejaVu Sans Mono',consolas,'Courier New',monospace\"><span style=\"font-weight: bold\">{</span>\n",
       "  <span style=\"color: #008000; text-decoration-color: #008000\">\"id\"</span>: <span style=\"color: #008000; text-decoration-color: #008000\">\"1c3c149a-cee9-4d73-abcb-8584dc44cf42\"</span>,\n",
       "  <span style=\"color: #008000; text-decoration-color: #008000\">\"attribute\"</span>: <span style=\"color: #008000; text-decoration-color: #008000\">\"value\"</span>,\n",
       "  <span style=\"color: #008000; text-decoration-color: #008000\">\"mandatory_attribute\"</span>: <span style=\"color: #008080; text-decoration-color: #008080; font-weight: bold\">100.0</span>,\n",
       "  <span style=\"color: #008000; text-decoration-color: #008000\">\"array_attribute\"</span>: <span style=\"font-weight: bold\">[</span>\n",
       "    <span style=\"color: #008080; text-decoration-color: #008080; font-weight: bold\">1.0</span>,\n",
       "    <span style=\"color: #008080; text-decoration-color: #008080; font-weight: bold\">2.0</span>,\n",
       "    <span style=\"color: #008080; text-decoration-color: #008080; font-weight: bold\">3.0</span>\n",
       "  <span style=\"font-weight: bold\">]</span>,\n",
       "  <span style=\"color: #008000; text-decoration-color: #008000\">\"object_attribute\"</span>: <span style=\"font-weight: bold\">{</span>\n",
       "    <span style=\"color: #008000; text-decoration-color: #008000\">\"id\"</span>: <span style=\"color: #008000; text-decoration-color: #008000\">\"b872433e-1bd3-4070-95f8-a1d5e40c18af\"</span>,\n",
       "    <span style=\"color: #008000; text-decoration-color: #008000\">\"small_type\"</span>: <span style=\"font-weight: bold\">{</span>\n",
       "      <span style=\"color: #008000; text-decoration-color: #008000\">\"id\"</span>: <span style=\"color: #008000; text-decoration-color: #008000\">\"3bbfd441-b36a-42ee-af51-9bf33f49977c\"</span>,\n",
       "      <span style=\"color: #008000; text-decoration-color: #008000\">\"value\"</span>: <span style=\"color: #008080; text-decoration-color: #008080; font-weight: bold\">1.0</span>,\n",
       "      <span style=\"color: #008000; text-decoration-color: #008000\">\"name\"</span>: <span style=\"color: #008000; text-decoration-color: #008000\">\"Small Object\"</span>\n",
       "    <span style=\"font-weight: bold\">}</span>\n",
       "  <span style=\"font-weight: bold\">}</span>,\n",
       "  <span style=\"color: #008000; text-decoration-color: #008000\">\"multiple_object_attribute\"</span>: <span style=\"font-weight: bold\">[</span>\n",
       "    <span style=\"font-weight: bold\">{</span>\n",
       "      <span style=\"color: #008000; text-decoration-color: #008000\">\"id\"</span>: <span style=\"color: #008000; text-decoration-color: #008000\">\"74650043-24a4-4621-bf72-4c7d8e1d7eea\"</span>,\n",
       "      <span style=\"color: #008000; text-decoration-color: #008000\">\"small_type\"</span>: <span style=\"font-weight: bold\">{</span>\n",
       "        <span style=\"color: #008000; text-decoration-color: #008000\">\"id\"</span>: <span style=\"color: #008000; text-decoration-color: #008000\">\"d3bfacd1-250f-4f94-9997-a5e3f5c4490d\"</span>,\n",
       "        <span style=\"color: #008000; text-decoration-color: #008000\">\"value\"</span>: <span style=\"color: #008080; text-decoration-color: #008080; font-weight: bold\">200.0</span>,\n",
       "        <span style=\"color: #008000; text-decoration-color: #008000\">\"name\"</span>: <span style=\"color: #008000; text-decoration-color: #008000\">\"I am a small object\"</span>\n",
       "      <span style=\"font-weight: bold\">}</span>\n",
       "    <span style=\"font-weight: bold\">}</span>,\n",
       "    <span style=\"font-weight: bold\">{</span>\n",
       "      <span style=\"color: #008000; text-decoration-color: #008000\">\"id\"</span>: <span style=\"color: #008000; text-decoration-color: #008000\">\"33e2adbd-fa23-4b26-a96f-fe042beef552\"</span>,\n",
       "      <span style=\"color: #008000; text-decoration-color: #008000\">\"small_type\"</span>: <span style=\"font-weight: bold\">{</span>\n",
       "        <span style=\"color: #008000; text-decoration-color: #008000\">\"id\"</span>: <span style=\"color: #008000; text-decoration-color: #008000\">\"a9cc7165-35b8-41b9-8ad5-592280e0b52a\"</span>,\n",
       "        <span style=\"color: #008000; text-decoration-color: #008000\">\"value\"</span>: <span style=\"color: #008080; text-decoration-color: #008080; font-weight: bold\">100.0</span>,\n",
       "        <span style=\"color: #008000; text-decoration-color: #008000\">\"name\"</span>: <span style=\"color: #008000; text-decoration-color: #008000\">\"Another small object\"</span>\n",
       "      <span style=\"font-weight: bold\">}</span>\n",
       "    <span style=\"font-weight: bold\">}</span>\n",
       "  <span style=\"font-weight: bold\">]</span>,\n",
       "  <span style=\"color: #008000; text-decoration-color: #008000\">\"some_unit\"</span>: <span style=\"font-weight: bold\">{</span>\n",
       "    <span style=\"color: #008000; text-decoration-color: #008000\">\"id\"</span>: <span style=\"color: #008000; text-decoration-color: #008000\">\"20bb7877-3161-4d68-b766-379d86d1c83d\"</span>,\n",
       "    <span style=\"color: #008000; text-decoration-color: #008000\">\"name\"</span>: <span style=\"color: #008000; text-decoration-color: #008000\">\"mmol / l\"</span>,\n",
       "    <span style=\"color: #008000; text-decoration-color: #008000\">\"bases\"</span>: <span style=\"font-weight: bold\">[</span>\n",
       "      <span style=\"font-weight: bold\">{</span>\n",
       "        <span style=\"color: #008000; text-decoration-color: #008000\">\"scale\"</span>: <span style=\"color: #008080; text-decoration-color: #008080; font-weight: bold\">0.001</span>,\n",
       "        <span style=\"color: #008000; text-decoration-color: #008000\">\"kind\"</span>: <span style=\"color: #008000; text-decoration-color: #008000\">\"mol\"</span>,\n",
       "        <span style=\"color: #008000; text-decoration-color: #008000\">\"exponent\"</span>: <span style=\"color: #008080; text-decoration-color: #008080; font-weight: bold\">1.0</span>\n",
       "      <span style=\"font-weight: bold\">}</span>,\n",
       "      <span style=\"font-weight: bold\">{</span>\n",
       "        <span style=\"color: #008000; text-decoration-color: #008000\">\"scale\"</span>: <span style=\"color: #008080; text-decoration-color: #008080; font-weight: bold\">1.0</span>,\n",
       "        <span style=\"color: #008000; text-decoration-color: #008000\">\"kind\"</span>: <span style=\"color: #008000; text-decoration-color: #008000\">\"l\"</span>,\n",
       "        <span style=\"color: #008000; text-decoration-color: #008000\">\"exponent\"</span>: <span style=\"color: #008080; text-decoration-color: #008080; font-weight: bold\">-1.0</span>\n",
       "      <span style=\"font-weight: bold\">}</span>\n",
       "    <span style=\"font-weight: bold\">]</span>\n",
       "  <span style=\"font-weight: bold\">}</span>\n",
       "<span style=\"font-weight: bold\">}</span>\n",
       "</pre>\n"
      ],
      "text/plain": [
       "\u001b[1m{\u001b[0m\n",
       "  \u001b[32m\"id\"\u001b[0m: \u001b[32m\"1c3c149a-cee9-4d73-abcb-8584dc44cf42\"\u001b[0m,\n",
       "  \u001b[32m\"attribute\"\u001b[0m: \u001b[32m\"value\"\u001b[0m,\n",
       "  \u001b[32m\"mandatory_attribute\"\u001b[0m: \u001b[1;36m100.0\u001b[0m,\n",
       "  \u001b[32m\"array_attribute\"\u001b[0m: \u001b[1m[\u001b[0m\n",
       "    \u001b[1;36m1.0\u001b[0m,\n",
       "    \u001b[1;36m2.0\u001b[0m,\n",
       "    \u001b[1;36m3.0\u001b[0m\n",
       "  \u001b[1m]\u001b[0m,\n",
       "  \u001b[32m\"object_attribute\"\u001b[0m: \u001b[1m{\u001b[0m\n",
       "    \u001b[32m\"id\"\u001b[0m: \u001b[32m\"b872433e-1bd3-4070-95f8-a1d5e40c18af\"\u001b[0m,\n",
       "    \u001b[32m\"small_type\"\u001b[0m: \u001b[1m{\u001b[0m\n",
       "      \u001b[32m\"id\"\u001b[0m: \u001b[32m\"3bbfd441-b36a-42ee-af51-9bf33f49977c\"\u001b[0m,\n",
       "      \u001b[32m\"value\"\u001b[0m: \u001b[1;36m1.0\u001b[0m,\n",
       "      \u001b[32m\"name\"\u001b[0m: \u001b[32m\"Small Object\"\u001b[0m\n",
       "    \u001b[1m}\u001b[0m\n",
       "  \u001b[1m}\u001b[0m,\n",
       "  \u001b[32m\"multiple_object_attribute\"\u001b[0m: \u001b[1m[\u001b[0m\n",
       "    \u001b[1m{\u001b[0m\n",
       "      \u001b[32m\"id\"\u001b[0m: \u001b[32m\"74650043-24a4-4621-bf72-4c7d8e1d7eea\"\u001b[0m,\n",
       "      \u001b[32m\"small_type\"\u001b[0m: \u001b[1m{\u001b[0m\n",
       "        \u001b[32m\"id\"\u001b[0m: \u001b[32m\"d3bfacd1-250f-4f94-9997-a5e3f5c4490d\"\u001b[0m,\n",
       "        \u001b[32m\"value\"\u001b[0m: \u001b[1;36m200.0\u001b[0m,\n",
       "        \u001b[32m\"name\"\u001b[0m: \u001b[32m\"I am a small object\"\u001b[0m\n",
       "      \u001b[1m}\u001b[0m\n",
       "    \u001b[1m}\u001b[0m,\n",
       "    \u001b[1m{\u001b[0m\n",
       "      \u001b[32m\"id\"\u001b[0m: \u001b[32m\"33e2adbd-fa23-4b26-a96f-fe042beef552\"\u001b[0m,\n",
       "      \u001b[32m\"small_type\"\u001b[0m: \u001b[1m{\u001b[0m\n",
       "        \u001b[32m\"id\"\u001b[0m: \u001b[32m\"a9cc7165-35b8-41b9-8ad5-592280e0b52a\"\u001b[0m,\n",
       "        \u001b[32m\"value\"\u001b[0m: \u001b[1;36m100.0\u001b[0m,\n",
       "        \u001b[32m\"name\"\u001b[0m: \u001b[32m\"Another small object\"\u001b[0m\n",
       "      \u001b[1m}\u001b[0m\n",
       "    \u001b[1m}\u001b[0m\n",
       "  \u001b[1m]\u001b[0m,\n",
       "  \u001b[32m\"some_unit\"\u001b[0m: \u001b[1m{\u001b[0m\n",
       "    \u001b[32m\"id\"\u001b[0m: \u001b[32m\"20bb7877-3161-4d68-b766-379d86d1c83d\"\u001b[0m,\n",
       "    \u001b[32m\"name\"\u001b[0m: \u001b[32m\"mmol / l\"\u001b[0m,\n",
       "    \u001b[32m\"bases\"\u001b[0m: \u001b[1m[\u001b[0m\n",
       "      \u001b[1m{\u001b[0m\n",
       "        \u001b[32m\"scale\"\u001b[0m: \u001b[1;36m0.001\u001b[0m,\n",
       "        \u001b[32m\"kind\"\u001b[0m: \u001b[32m\"mol\"\u001b[0m,\n",
       "        \u001b[32m\"exponent\"\u001b[0m: \u001b[1;36m1.0\u001b[0m\n",
       "      \u001b[1m}\u001b[0m,\n",
       "      \u001b[1m{\u001b[0m\n",
       "        \u001b[32m\"scale\"\u001b[0m: \u001b[1;36m1.0\u001b[0m,\n",
       "        \u001b[32m\"kind\"\u001b[0m: \u001b[32m\"l\"\u001b[0m,\n",
       "        \u001b[32m\"exponent\"\u001b[0m: \u001b[1;36m-1.0\u001b[0m\n",
       "      \u001b[1m}\u001b[0m\n",
       "    \u001b[1m]\u001b[0m\n",
       "  \u001b[1m}\u001b[0m\n",
       "\u001b[1m}\u001b[0m\n"
      ]
     },
     "metadata": {},
     "output_type": "display_data"
    }
   ],
   "source": [
    "# Okay, now you know most of the things to work with sdRDM objects.\n",
    "# Finally, lets export the object to a file of interest. sdRDM supports\n",
    "# a variety of formats, including JSON, YAML, XML and HDF5 out of the box.\n",
    "\n",
    "# ! We omit HDF5 here, since its hard to print it in a nice way\n",
    "\n",
    "# Lets export the object to JSON\n",
    "with open(\"dataset.json\", \"w\") as f:\n",
    "    json_data = dataset.json(warn=False)\n",
    "    f.write(json_data)\n",
    "    \n",
    "    rich.print(json_data)"
   ]
  },
  {
   "cell_type": "code",
   "execution_count": 14,
   "metadata": {},
   "outputs": [
    {
     "data": {
      "text/html": [
       "<pre style=\"white-space:pre;overflow-x:auto;line-height:normal;font-family:Menlo,'DejaVu Sans Mono',consolas,'Courier New',monospace\">id: <span style=\"color: #ffff00; text-decoration-color: #ffff00\">1c3c149a-cee9-4d73-abcb-8584dc44cf42</span>\n",
       "attribute: value\n",
       "mandatory_attribute: <span style=\"color: #008080; text-decoration-color: #008080; font-weight: bold\">100.0</span>\n",
       "array_attribute:\n",
       "  - <span style=\"color: #008080; text-decoration-color: #008080; font-weight: bold\">1.0</span>\n",
       "  - <span style=\"color: #008080; text-decoration-color: #008080; font-weight: bold\">2.0</span>\n",
       "  - <span style=\"color: #008080; text-decoration-color: #008080; font-weight: bold\">3.0</span>\n",
       "object_attribute:\n",
       "  id: <span style=\"color: #ffff00; text-decoration-color: #ffff00\">b872433e-1bd3-4070-95f8-a1d5e40c18af</span>\n",
       "  small_type:\n",
       "    id: <span style=\"color: #ffff00; text-decoration-color: #ffff00\">3bbfd441-b36a-42ee-af51-9bf33f49977c</span>\n",
       "    value: <span style=\"color: #008080; text-decoration-color: #008080; font-weight: bold\">1.0</span>\n",
       "    name: Small Object\n",
       "multiple_object_attribute:\n",
       "  - id: <span style=\"color: #ffff00; text-decoration-color: #ffff00\">74650043-24a4-4621-bf72-4c7d8e1d7eea</span>\n",
       "    small_type:\n",
       "      id: <span style=\"color: #ffff00; text-decoration-color: #ffff00\">d3bfacd1-250f-4f94-9997-a5e3f5c4490d</span>\n",
       "      value: <span style=\"color: #008080; text-decoration-color: #008080; font-weight: bold\">200.0</span>\n",
       "      name: I am a small object\n",
       "  - id: <span style=\"color: #ffff00; text-decoration-color: #ffff00\">33e2adbd-fa23-4b26-a96f-fe042beef552</span>\n",
       "    small_type:\n",
       "      id: <span style=\"color: #ffff00; text-decoration-color: #ffff00\">a9cc7165-35b8-41b9-8ad5-592280e0b52a</span>\n",
       "      value: <span style=\"color: #008080; text-decoration-color: #008080; font-weight: bold\">100.0</span>\n",
       "      name: Another small object\n",
       "some_unit:\n",
       "  id: <span style=\"color: #ffff00; text-decoration-color: #ffff00\">20bb7877-3161-4d68-b766-379d86d1c83d</span>\n",
       "  name: mmol <span style=\"color: #800080; text-decoration-color: #800080\">/</span> l\n",
       "  bases:\n",
       "    - scale: <span style=\"color: #008080; text-decoration-color: #008080; font-weight: bold\">0.001</span>\n",
       "      kind: mol\n",
       "      exponent: <span style=\"color: #008080; text-decoration-color: #008080; font-weight: bold\">1.0</span>\n",
       "    - scale: <span style=\"color: #008080; text-decoration-color: #008080; font-weight: bold\">1.0</span>\n",
       "      kind: l\n",
       "      exponent: <span style=\"color: #008080; text-decoration-color: #008080; font-weight: bold\">-1.0</span>\n",
       "\n",
       "</pre>\n"
      ],
      "text/plain": [
       "id: \u001b[93m1c3c149a-cee9-4d73-abcb-8584dc44cf42\u001b[0m\n",
       "attribute: value\n",
       "mandatory_attribute: \u001b[1;36m100.0\u001b[0m\n",
       "array_attribute:\n",
       "  - \u001b[1;36m1.0\u001b[0m\n",
       "  - \u001b[1;36m2.0\u001b[0m\n",
       "  - \u001b[1;36m3.0\u001b[0m\n",
       "object_attribute:\n",
       "  id: \u001b[93mb872433e-1bd3-4070-95f8-a1d5e40c18af\u001b[0m\n",
       "  small_type:\n",
       "    id: \u001b[93m3bbfd441-b36a-42ee-af51-9bf33f49977c\u001b[0m\n",
       "    value: \u001b[1;36m1.0\u001b[0m\n",
       "    name: Small Object\n",
       "multiple_object_attribute:\n",
       "  - id: \u001b[93m74650043-24a4-4621-bf72-4c7d8e1d7eea\u001b[0m\n",
       "    small_type:\n",
       "      id: \u001b[93md3bfacd1-250f-4f94-9997-a5e3f5c4490d\u001b[0m\n",
       "      value: \u001b[1;36m200.0\u001b[0m\n",
       "      name: I am a small object\n",
       "  - id: \u001b[93m33e2adbd-fa23-4b26-a96f-fe042beef552\u001b[0m\n",
       "    small_type:\n",
       "      id: \u001b[93ma9cc7165-35b8-41b9-8ad5-592280e0b52a\u001b[0m\n",
       "      value: \u001b[1;36m100.0\u001b[0m\n",
       "      name: Another small object\n",
       "some_unit:\n",
       "  id: \u001b[93m20bb7877-3161-4d68-b766-379d86d1c83d\u001b[0m\n",
       "  name: mmol \u001b[35m/\u001b[0m l\n",
       "  bases:\n",
       "    - scale: \u001b[1;36m0.001\u001b[0m\n",
       "      kind: mol\n",
       "      exponent: \u001b[1;36m1.0\u001b[0m\n",
       "    - scale: \u001b[1;36m1.0\u001b[0m\n",
       "      kind: l\n",
       "      exponent: \u001b[1;36m-1.0\u001b[0m\n",
       "\n"
      ]
     },
     "metadata": {},
     "output_type": "display_data"
    }
   ],
   "source": [
    "# Or to YAML\n",
    "with open(\"dataset.yaml\", \"w\") as f:\n",
    "    yaml_data = dataset.yaml(warn=False)\n",
    "    f.write(yaml_data)\n",
    "    \n",
    "    rich.print(yaml_data)"
   ]
  },
  {
   "cell_type": "code",
   "execution_count": 15,
   "metadata": {},
   "outputs": [
    {
     "data": {
      "text/html": [
       "<pre style=\"white-space:pre;overflow-x:auto;line-height:normal;font-family:Menlo,'DejaVu Sans Mono',consolas,'Courier New',monospace\"><span style=\"font-weight: bold\">&lt;</span><span style=\"color: #000000; text-decoration-color: #000000\">?xml </span><span style=\"color: #808000; text-decoration-color: #808000\">version</span><span style=\"color: #000000; text-decoration-color: #000000\">=</span><span style=\"color: #008000; text-decoration-color: #008000\">'1.0'</span><span style=\"color: #000000; text-decoration-color: #000000\"> </span><span style=\"color: #808000; text-decoration-color: #808000\">encoding</span><span style=\"color: #000000; text-decoration-color: #000000\">=</span><span style=\"color: #008000; text-decoration-color: #008000\">'UTF-8'</span><span style=\"color: #000000; text-decoration-color: #000000\">?&gt;</span>\n",
       "<span style=\"color: #000000; text-decoration-color: #000000\">&lt;MyObject </span><span style=\"color: #808000; text-decoration-color: #808000\">id</span><span style=\"color: #000000; text-decoration-color: #000000\">=</span><span style=\"color: #008000; text-decoration-color: #008000\">\"1c3c149a-cee9-4d73-abcb-8584dc44cf42\"</span><span style=\"color: #000000; text-decoration-color: #000000\">&gt;</span>\n",
       "<span style=\"color: #000000; text-decoration-color: #000000\">  &lt;attribute&gt;value&lt;</span><span style=\"color: #800080; text-decoration-color: #800080\">/</span><span style=\"color: #ff00ff; text-decoration-color: #ff00ff\">attribute</span><span style=\"color: #000000; text-decoration-color: #000000\">&gt;</span>\n",
       "<span style=\"color: #000000; text-decoration-color: #000000\">  &lt;mandatory_attribute&gt;</span><span style=\"color: #008080; text-decoration-color: #008080; font-weight: bold\">100.0</span><span style=\"color: #000000; text-decoration-color: #000000\">&lt;</span><span style=\"color: #800080; text-decoration-color: #800080\">/</span><span style=\"color: #ff00ff; text-decoration-color: #ff00ff\">mandatory_attribute</span><span style=\"color: #000000; text-decoration-color: #000000\">&gt;</span>\n",
       "<span style=\"color: #000000; text-decoration-color: #000000\">  &lt;array_attribute&gt;</span>\n",
       "<span style=\"color: #000000; text-decoration-color: #000000\">    &lt;float&gt;</span><span style=\"color: #008080; text-decoration-color: #008080; font-weight: bold\">1.0</span><span style=\"color: #000000; text-decoration-color: #000000\">&lt;</span><span style=\"color: #800080; text-decoration-color: #800080\">/</span><span style=\"color: #ff00ff; text-decoration-color: #ff00ff\">float</span><span style=\"color: #000000; text-decoration-color: #000000\">&gt;</span>\n",
       "<span style=\"color: #000000; text-decoration-color: #000000\">    &lt;float&gt;</span><span style=\"color: #008080; text-decoration-color: #008080; font-weight: bold\">2.0</span><span style=\"color: #000000; text-decoration-color: #000000\">&lt;</span><span style=\"color: #800080; text-decoration-color: #800080\">/</span><span style=\"color: #ff00ff; text-decoration-color: #ff00ff\">float</span><span style=\"color: #000000; text-decoration-color: #000000\">&gt;</span>\n",
       "<span style=\"color: #000000; text-decoration-color: #000000\">    &lt;float&gt;</span><span style=\"color: #008080; text-decoration-color: #008080; font-weight: bold\">3.0</span><span style=\"color: #000000; text-decoration-color: #000000\">&lt;</span><span style=\"color: #800080; text-decoration-color: #800080\">/</span><span style=\"color: #ff00ff; text-decoration-color: #ff00ff\">float</span><span style=\"color: #000000; text-decoration-color: #000000\">&gt;</span>\n",
       "<span style=\"color: #000000; text-decoration-color: #000000\">  &lt;</span><span style=\"color: #800080; text-decoration-color: #800080\">/</span><span style=\"color: #ff00ff; text-decoration-color: #ff00ff\">array_attribute</span><span style=\"color: #000000; text-decoration-color: #000000\">&gt;</span>\n",
       "<span style=\"color: #000000; text-decoration-color: #000000\">  &lt;object_attribute </span><span style=\"color: #808000; text-decoration-color: #808000\">id</span><span style=\"color: #000000; text-decoration-color: #000000\">=</span><span style=\"color: #008000; text-decoration-color: #008000\">\"b872433e-1bd3-4070-95f8-a1d5e40c18af\"</span><span style=\"color: #000000; text-decoration-color: #000000\">&gt;</span>\n",
       "<span style=\"color: #000000; text-decoration-color: #000000\">    &lt;small_type </span><span style=\"color: #808000; text-decoration-color: #808000\">id</span><span style=\"color: #000000; text-decoration-color: #000000\">=</span><span style=\"color: #008000; text-decoration-color: #008000\">\"3bbfd441-b36a-42ee-af51-9bf33f49977c\"</span><span style=\"color: #000000; text-decoration-color: #000000\">&gt;</span>\n",
       "<span style=\"color: #000000; text-decoration-color: #000000\">      &lt;value&gt;</span><span style=\"color: #008080; text-decoration-color: #008080; font-weight: bold\">1.0</span><span style=\"color: #000000; text-decoration-color: #000000\">&lt;</span><span style=\"color: #800080; text-decoration-color: #800080\">/</span><span style=\"color: #ff00ff; text-decoration-color: #ff00ff\">value</span><span style=\"color: #000000; text-decoration-color: #000000\">&gt;</span>\n",
       "<span style=\"color: #000000; text-decoration-color: #000000\">      &lt;name&gt;Small Object&lt;</span><span style=\"color: #800080; text-decoration-color: #800080\">/</span><span style=\"color: #ff00ff; text-decoration-color: #ff00ff\">name</span><span style=\"color: #000000; text-decoration-color: #000000\">&gt;</span>\n",
       "<span style=\"color: #000000; text-decoration-color: #000000\">    &lt;</span><span style=\"color: #800080; text-decoration-color: #800080\">/</span><span style=\"color: #ff00ff; text-decoration-color: #ff00ff\">small_type</span><span style=\"color: #000000; text-decoration-color: #000000\">&gt;</span>\n",
       "<span style=\"color: #000000; text-decoration-color: #000000\">  &lt;</span><span style=\"color: #800080; text-decoration-color: #800080\">/</span><span style=\"color: #ff00ff; text-decoration-color: #ff00ff\">object_attribute</span><span style=\"color: #000000; text-decoration-color: #000000\">&gt;</span>\n",
       "<span style=\"color: #000000; text-decoration-color: #000000\">  &lt;multiple_object_attribute&gt;</span>\n",
       "<span style=\"color: #000000; text-decoration-color: #000000\">    &lt;AnotherObject </span><span style=\"color: #808000; text-decoration-color: #808000\">id</span><span style=\"color: #000000; text-decoration-color: #000000\">=</span><span style=\"color: #008000; text-decoration-color: #008000\">\"74650043-24a4-4621-bf72-4c7d8e1d7eea\"</span><span style=\"color: #000000; text-decoration-color: #000000\">&gt;</span>\n",
       "<span style=\"color: #000000; text-decoration-color: #000000\">      &lt;small_type </span><span style=\"color: #808000; text-decoration-color: #808000\">id</span><span style=\"color: #000000; text-decoration-color: #000000\">=</span><span style=\"color: #008000; text-decoration-color: #008000\">\"d3bfacd1-250f-4f94-9997-a5e3f5c4490d\"</span><span style=\"color: #000000; text-decoration-color: #000000\">&gt;</span>\n",
       "<span style=\"color: #000000; text-decoration-color: #000000\">        &lt;value&gt;</span><span style=\"color: #008080; text-decoration-color: #008080; font-weight: bold\">200.0</span><span style=\"color: #000000; text-decoration-color: #000000\">&lt;</span><span style=\"color: #800080; text-decoration-color: #800080\">/</span><span style=\"color: #ff00ff; text-decoration-color: #ff00ff\">value</span><span style=\"color: #000000; text-decoration-color: #000000\">&gt;</span>\n",
       "<span style=\"color: #000000; text-decoration-color: #000000\">        &lt;name&gt;I am a small object&lt;</span><span style=\"color: #800080; text-decoration-color: #800080\">/</span><span style=\"color: #ff00ff; text-decoration-color: #ff00ff\">name</span><span style=\"color: #000000; text-decoration-color: #000000\">&gt;</span>\n",
       "<span style=\"color: #000000; text-decoration-color: #000000\">      &lt;</span><span style=\"color: #800080; text-decoration-color: #800080\">/</span><span style=\"color: #ff00ff; text-decoration-color: #ff00ff\">small_type</span><span style=\"color: #000000; text-decoration-color: #000000\">&gt;</span>\n",
       "<span style=\"color: #000000; text-decoration-color: #000000\">    &lt;</span><span style=\"color: #800080; text-decoration-color: #800080\">/</span><span style=\"color: #ff00ff; text-decoration-color: #ff00ff\">AnotherObject</span><span style=\"color: #000000; text-decoration-color: #000000\">&gt;</span>\n",
       "<span style=\"color: #000000; text-decoration-color: #000000\">    &lt;AnotherObject </span><span style=\"color: #808000; text-decoration-color: #808000\">id</span><span style=\"color: #000000; text-decoration-color: #000000\">=</span><span style=\"color: #008000; text-decoration-color: #008000\">\"33e2adbd-fa23-4b26-a96f-fe042beef552\"</span><span style=\"color: #000000; text-decoration-color: #000000\">&gt;</span>\n",
       "<span style=\"color: #000000; text-decoration-color: #000000\">      &lt;small_type </span><span style=\"color: #808000; text-decoration-color: #808000\">id</span><span style=\"color: #000000; text-decoration-color: #000000\">=</span><span style=\"color: #008000; text-decoration-color: #008000\">\"a9cc7165-35b8-41b9-8ad5-592280e0b52a\"</span><span style=\"color: #000000; text-decoration-color: #000000\">&gt;</span>\n",
       "<span style=\"color: #000000; text-decoration-color: #000000\">        &lt;value&gt;</span><span style=\"color: #008080; text-decoration-color: #008080; font-weight: bold\">100.0</span><span style=\"color: #000000; text-decoration-color: #000000\">&lt;</span><span style=\"color: #800080; text-decoration-color: #800080\">/</span><span style=\"color: #ff00ff; text-decoration-color: #ff00ff\">value</span><span style=\"color: #000000; text-decoration-color: #000000\">&gt;</span>\n",
       "<span style=\"color: #000000; text-decoration-color: #000000\">        &lt;name&gt;Another small object&lt;</span><span style=\"color: #800080; text-decoration-color: #800080\">/</span><span style=\"color: #ff00ff; text-decoration-color: #ff00ff\">name</span><span style=\"color: #000000; text-decoration-color: #000000\">&gt;</span>\n",
       "<span style=\"color: #000000; text-decoration-color: #000000\">      &lt;</span><span style=\"color: #800080; text-decoration-color: #800080\">/</span><span style=\"color: #ff00ff; text-decoration-color: #ff00ff\">small_type</span><span style=\"color: #000000; text-decoration-color: #000000\">&gt;</span>\n",
       "<span style=\"color: #000000; text-decoration-color: #000000\">    &lt;</span><span style=\"color: #800080; text-decoration-color: #800080\">/</span><span style=\"color: #ff00ff; text-decoration-color: #ff00ff\">AnotherObject</span><span style=\"color: #000000; text-decoration-color: #000000\">&gt;</span>\n",
       "<span style=\"color: #000000; text-decoration-color: #000000\">  &lt;</span><span style=\"color: #800080; text-decoration-color: #800080\">/</span><span style=\"color: #ff00ff; text-decoration-color: #ff00ff\">multiple_object_attribute</span><span style=\"color: #000000; text-decoration-color: #000000\">&gt;</span>\n",
       "<span style=\"color: #000000; text-decoration-color: #000000\">  &lt;some_unit </span><span style=\"color: #808000; text-decoration-color: #808000\">xmlns</span><span style=\"color: #000000; text-decoration-color: #000000\">=</span><span style=\"color: #008000; text-decoration-color: #008000\">\"https://www.github.com/software-driven-rdm\"</span><span style=\"color: #000000; text-decoration-color: #000000\"> </span><span style=\"color: #808000; text-decoration-color: #808000\">id</span><span style=\"color: #000000; text-decoration-color: #000000\">=</span><span style=\"color: #008000; text-decoration-color: #008000\">\"20bb7877-3161-4d68-b766-379d86d1c83d\"</span><span style=\"color: #000000; text-decoration-color: #000000\"> </span>\n",
       "<span style=\"color: #808000; text-decoration-color: #808000\">name</span><span style=\"color: #000000; text-decoration-color: #000000\">=</span><span style=\"color: #008000; text-decoration-color: #008000\">\"mmol / l\"</span><span style=\"color: #000000; text-decoration-color: #000000\">&gt;</span>\n",
       "<span style=\"color: #000000; text-decoration-color: #000000\">    &lt;BaseUnit </span><span style=\"color: #808000; text-decoration-color: #808000\">scale</span><span style=\"color: #000000; text-decoration-color: #000000\">=</span><span style=\"color: #008000; text-decoration-color: #008000\">\"0.001\"</span><span style=\"color: #000000; text-decoration-color: #000000\"> </span><span style=\"color: #808000; text-decoration-color: #808000\">kind</span><span style=\"color: #000000; text-decoration-color: #000000\">=</span><span style=\"color: #008000; text-decoration-color: #008000\">\"mol\"</span><span style=\"color: #000000; text-decoration-color: #000000\"> </span><span style=\"color: #808000; text-decoration-color: #808000\">exponent</span><span style=\"color: #000000; text-decoration-color: #000000\">=</span><span style=\"color: #008000; text-decoration-color: #008000\">\"1.0\"</span><span style=\"color: #800080; text-decoration-color: #800080\">/</span><span style=\"color: #000000; text-decoration-color: #000000\">&gt;</span>\n",
       "<span style=\"color: #000000; text-decoration-color: #000000\">    &lt;BaseUnit </span><span style=\"color: #808000; text-decoration-color: #808000\">scale</span><span style=\"color: #000000; text-decoration-color: #000000\">=</span><span style=\"color: #008000; text-decoration-color: #008000\">\"1.0\"</span><span style=\"color: #000000; text-decoration-color: #000000\"> </span><span style=\"color: #808000; text-decoration-color: #808000\">kind</span><span style=\"color: #000000; text-decoration-color: #000000\">=</span><span style=\"color: #008000; text-decoration-color: #008000\">\"l\"</span><span style=\"color: #000000; text-decoration-color: #000000\"> </span><span style=\"color: #808000; text-decoration-color: #808000\">exponent</span><span style=\"color: #000000; text-decoration-color: #000000\">=</span><span style=\"color: #008000; text-decoration-color: #008000\">\"-1.0\"</span><span style=\"color: #800080; text-decoration-color: #800080\">/</span><span style=\"color: #000000; text-decoration-color: #000000\">&gt;</span>\n",
       "<span style=\"color: #000000; text-decoration-color: #000000\">  &lt;</span><span style=\"color: #800080; text-decoration-color: #800080\">/</span><span style=\"color: #ff00ff; text-decoration-color: #ff00ff\">some_unit</span><span style=\"color: #000000; text-decoration-color: #000000\">&gt;</span>\n",
       "<span style=\"color: #000000; text-decoration-color: #000000\">&lt;</span><span style=\"color: #800080; text-decoration-color: #800080\">/</span><span style=\"color: #ff00ff; text-decoration-color: #ff00ff\">MyObject</span><span style=\"font-weight: bold\">&gt;</span>\n",
       "\n",
       "</pre>\n"
      ],
      "text/plain": [
       "\u001b[1m<\u001b[0m\u001b[39m?xml \u001b[0m\u001b[33mversion\u001b[0m\u001b[39m=\u001b[0m\u001b[32m'1.0'\u001b[0m\u001b[39m \u001b[0m\u001b[33mencoding\u001b[0m\u001b[39m=\u001b[0m\u001b[32m'UTF-8'\u001b[0m\u001b[39m?>\u001b[0m\n",
       "\u001b[39m<MyObject \u001b[0m\u001b[33mid\u001b[0m\u001b[39m=\u001b[0m\u001b[32m\"1c3c149a\u001b[0m\u001b[32m-cee9-4d73-abcb-8584dc44cf42\"\u001b[0m\u001b[39m>\u001b[0m\n",
       "\u001b[39m  <attribute>value<\u001b[0m\u001b[35m/\u001b[0m\u001b[95mattribute\u001b[0m\u001b[39m>\u001b[0m\n",
       "\u001b[39m  <mandatory_attribute>\u001b[0m\u001b[1;36m100.0\u001b[0m\u001b[39m<\u001b[0m\u001b[35m/\u001b[0m\u001b[95mmandatory_attribute\u001b[0m\u001b[39m>\u001b[0m\n",
       "\u001b[39m  <array_attribute>\u001b[0m\n",
       "\u001b[39m    <float>\u001b[0m\u001b[1;36m1.0\u001b[0m\u001b[39m<\u001b[0m\u001b[35m/\u001b[0m\u001b[95mfloat\u001b[0m\u001b[39m>\u001b[0m\n",
       "\u001b[39m    <float>\u001b[0m\u001b[1;36m2.0\u001b[0m\u001b[39m<\u001b[0m\u001b[35m/\u001b[0m\u001b[95mfloat\u001b[0m\u001b[39m>\u001b[0m\n",
       "\u001b[39m    <float>\u001b[0m\u001b[1;36m3.0\u001b[0m\u001b[39m<\u001b[0m\u001b[35m/\u001b[0m\u001b[95mfloat\u001b[0m\u001b[39m>\u001b[0m\n",
       "\u001b[39m  <\u001b[0m\u001b[35m/\u001b[0m\u001b[95marray_attribute\u001b[0m\u001b[39m>\u001b[0m\n",
       "\u001b[39m  <object_attribute \u001b[0m\u001b[33mid\u001b[0m\u001b[39m=\u001b[0m\u001b[32m\"b872433e\u001b[0m\u001b[32m-1bd3-4070-95f8-a1d5e40c18af\"\u001b[0m\u001b[39m>\u001b[0m\n",
       "\u001b[39m    <small_type \u001b[0m\u001b[33mid\u001b[0m\u001b[39m=\u001b[0m\u001b[32m\"3bbfd441\u001b[0m\u001b[32m-b36a-42ee-af51-9bf33f49977c\"\u001b[0m\u001b[39m>\u001b[0m\n",
       "\u001b[39m      <value>\u001b[0m\u001b[1;36m1.0\u001b[0m\u001b[39m<\u001b[0m\u001b[35m/\u001b[0m\u001b[95mvalue\u001b[0m\u001b[39m>\u001b[0m\n",
       "\u001b[39m      <name>Small Object<\u001b[0m\u001b[35m/\u001b[0m\u001b[95mname\u001b[0m\u001b[39m>\u001b[0m\n",
       "\u001b[39m    <\u001b[0m\u001b[35m/\u001b[0m\u001b[95msmall_type\u001b[0m\u001b[39m>\u001b[0m\n",
       "\u001b[39m  <\u001b[0m\u001b[35m/\u001b[0m\u001b[95mobject_attribute\u001b[0m\u001b[39m>\u001b[0m\n",
       "\u001b[39m  <multiple_object_attribute>\u001b[0m\n",
       "\u001b[39m    <AnotherObject \u001b[0m\u001b[33mid\u001b[0m\u001b[39m=\u001b[0m\u001b[32m\"74650043\u001b[0m\u001b[32m-24a4-4621-bf72-4c7d8e1d7eea\"\u001b[0m\u001b[39m>\u001b[0m\n",
       "\u001b[39m      <small_type \u001b[0m\u001b[33mid\u001b[0m\u001b[39m=\u001b[0m\u001b[32m\"d3bfacd1\u001b[0m\u001b[32m-250f-4f94-9997-a5e3f5c4490d\"\u001b[0m\u001b[39m>\u001b[0m\n",
       "\u001b[39m        <value>\u001b[0m\u001b[1;36m200.0\u001b[0m\u001b[39m<\u001b[0m\u001b[35m/\u001b[0m\u001b[95mvalue\u001b[0m\u001b[39m>\u001b[0m\n",
       "\u001b[39m        <name>I am a small object<\u001b[0m\u001b[35m/\u001b[0m\u001b[95mname\u001b[0m\u001b[39m>\u001b[0m\n",
       "\u001b[39m      <\u001b[0m\u001b[35m/\u001b[0m\u001b[95msmall_type\u001b[0m\u001b[39m>\u001b[0m\n",
       "\u001b[39m    <\u001b[0m\u001b[35m/\u001b[0m\u001b[95mAnotherObject\u001b[0m\u001b[39m>\u001b[0m\n",
       "\u001b[39m    <AnotherObject \u001b[0m\u001b[33mid\u001b[0m\u001b[39m=\u001b[0m\u001b[32m\"33e2adbd\u001b[0m\u001b[32m-fa23-4b26-a96f-fe042beef552\"\u001b[0m\u001b[39m>\u001b[0m\n",
       "\u001b[39m      <small_type \u001b[0m\u001b[33mid\u001b[0m\u001b[39m=\u001b[0m\u001b[32m\"a9cc7165\u001b[0m\u001b[32m-35b8-41b9-8ad5-592280e0b52a\"\u001b[0m\u001b[39m>\u001b[0m\n",
       "\u001b[39m        <value>\u001b[0m\u001b[1;36m100.0\u001b[0m\u001b[39m<\u001b[0m\u001b[35m/\u001b[0m\u001b[95mvalue\u001b[0m\u001b[39m>\u001b[0m\n",
       "\u001b[39m        <name>Another small object<\u001b[0m\u001b[35m/\u001b[0m\u001b[95mname\u001b[0m\u001b[39m>\u001b[0m\n",
       "\u001b[39m      <\u001b[0m\u001b[35m/\u001b[0m\u001b[95msmall_type\u001b[0m\u001b[39m>\u001b[0m\n",
       "\u001b[39m    <\u001b[0m\u001b[35m/\u001b[0m\u001b[95mAnotherObject\u001b[0m\u001b[39m>\u001b[0m\n",
       "\u001b[39m  <\u001b[0m\u001b[35m/\u001b[0m\u001b[95mmultiple_object_attribute\u001b[0m\u001b[39m>\u001b[0m\n",
       "\u001b[39m  <some_unit \u001b[0m\u001b[33mxmlns\u001b[0m\u001b[39m=\u001b[0m\u001b[32m\"https\u001b[0m\u001b[32m://www.github.com/software-driven-rdm\"\u001b[0m\u001b[39m \u001b[0m\u001b[33mid\u001b[0m\u001b[39m=\u001b[0m\u001b[32m\"20bb7877\u001b[0m\u001b[32m-3161-4d68-b766-379d86d1c83d\"\u001b[0m\u001b[39m \u001b[0m\n",
       "\u001b[33mname\u001b[0m\u001b[39m=\u001b[0m\u001b[32m\"mmol\u001b[0m\u001b[32m / l\"\u001b[0m\u001b[39m>\u001b[0m\n",
       "\u001b[39m    <BaseUnit \u001b[0m\u001b[33mscale\u001b[0m\u001b[39m=\u001b[0m\u001b[32m\"0\u001b[0m\u001b[32m.001\"\u001b[0m\u001b[39m \u001b[0m\u001b[33mkind\u001b[0m\u001b[39m=\u001b[0m\u001b[32m\"mol\"\u001b[0m\u001b[39m \u001b[0m\u001b[33mexponent\u001b[0m\u001b[39m=\u001b[0m\u001b[32m\"1\u001b[0m\u001b[32m.0\"\u001b[0m\u001b[35m/\u001b[0m\u001b[39m>\u001b[0m\n",
       "\u001b[39m    <BaseUnit \u001b[0m\u001b[33mscale\u001b[0m\u001b[39m=\u001b[0m\u001b[32m\"1\u001b[0m\u001b[32m.0\"\u001b[0m\u001b[39m \u001b[0m\u001b[33mkind\u001b[0m\u001b[39m=\u001b[0m\u001b[32m\"l\"\u001b[0m\u001b[39m \u001b[0m\u001b[33mexponent\u001b[0m\u001b[39m=\u001b[0m\u001b[32m\"-1.0\"\u001b[0m\u001b[35m/\u001b[0m\u001b[39m>\u001b[0m\n",
       "\u001b[39m  <\u001b[0m\u001b[35m/\u001b[0m\u001b[95msome_unit\u001b[0m\u001b[39m>\u001b[0m\n",
       "\u001b[39m<\u001b[0m\u001b[35m/\u001b[0m\u001b[95mMyObject\u001b[0m\u001b[1m>\u001b[0m\n",
       "\n"
      ]
     },
     "metadata": {},
     "output_type": "display_data"
    }
   ],
   "source": [
    "# Or to XML\n",
    "with open(\"dataset.xml\", \"w\") as f:\n",
    "    xml_data = dataset.xml()\n",
    "    f.write(xml_data)\n",
    "    \n",
    "    rich.print(xml_data)"
   ]
  },
  {
   "cell_type": "code",
   "execution_count": 16,
   "metadata": {},
   "outputs": [
    {
     "name": "stdout",
     "output_type": "stream",
     "text": [
      "\u001b[4mMyObject\u001b[0m\n",
      "├── \u001b[94mid\u001b[0m = 1c3c149a-cee9-4d73-abcb-8584dc44cf42\n",
      "├── \u001b[94mattribute\u001b[0m = value\n",
      "├── \u001b[94mmandatory_attribute\u001b[0m = 100.0\n",
      "├── \u001b[94marray_attribute\u001b[0m = [1.0, 2.0, 3.0, ...]\n",
      "├── \u001b[94mobject_attribute\u001b[0m\n",
      "│   └── \u001b[4mAnotherObject\u001b[0m\n",
      "│       ├── \u001b[94mid\u001b[0m = b872433e-1bd3-4070-95f8-a1d5e40c18af\n",
      "│       └── \u001b[94msmall_type\u001b[0m\n",
      "│           └── \u001b[4mSmallType\u001b[0m\n",
      "│               ├── \u001b[94mid\u001b[0m = 3bbfd441-b36a-42ee-af51-9bf33f49977c\n",
      "│               ├── \u001b[94mvalue\u001b[0m = 1.0\n",
      "│               └── \u001b[94mname\u001b[0m = Small Object\n",
      "├── \u001b[94mmultiple_object_attribute\u001b[0m\n",
      "│   ├── 0\n",
      "│   │   └── \u001b[4mAnotherObject\u001b[0m\n",
      "│   │       ├── \u001b[94mid\u001b[0m = 74650043-24a4-4621-bf72-4c7d8e1d7eea\n",
      "│   │       └── \u001b[94msmall_type\u001b[0m\n",
      "│   │           └── \u001b[4mSmallType\u001b[0m\n",
      "│   │               ├── \u001b[94mid\u001b[0m = d3bfacd1-250f-4f94-9997-a5e3f5c4490d\n",
      "│   │               ├── \u001b[94mvalue\u001b[0m = 200.0\n",
      "│   │               └── \u001b[94mname\u001b[0m = I am a small object\n",
      "│   └── 1\n",
      "│       └── \u001b[4mAnotherObject\u001b[0m\n",
      "│           ├── \u001b[94mid\u001b[0m = 33e2adbd-fa23-4b26-a96f-fe042beef552\n",
      "│           └── \u001b[94msmall_type\u001b[0m\n",
      "│               └── \u001b[4mSmallType\u001b[0m\n",
      "│                   ├── \u001b[94mid\u001b[0m = a9cc7165-35b8-41b9-8ad5-592280e0b52a\n",
      "│                   ├── \u001b[94mvalue\u001b[0m = 100.0\n",
      "│                   └── \u001b[94mname\u001b[0m = Another small object\n",
      "└── \u001b[94msome_unit\u001b[0m\n",
      "    └── \u001b[4mUnit\u001b[0m\n",
      "        ├── \u001b[94mid\u001b[0m = 20bb7877-3161-4d68-b766-379d86d1c83d\n",
      "        ├── \u001b[94mname\u001b[0m = mmol / l\n",
      "        └── \u001b[94mbases\u001b[0m\n",
      "            ├── 0\n",
      "            │   └── \u001b[4mBaseUnit\u001b[0m\n",
      "            │       ├── \u001b[94mscale\u001b[0m = 0.001\n",
      "            │       ├── \u001b[94mkind\u001b[0m = mol\n",
      "            │       └── \u001b[94mexponent\u001b[0m = 1.0\n",
      "            └── 1\n",
      "                └── \u001b[4mBaseUnit\u001b[0m\n",
      "                    ├── \u001b[94mscale\u001b[0m = 1.0\n",
      "                    ├── \u001b[94mkind\u001b[0m = l\n",
      "                    └── \u001b[94mexponent\u001b[0m = -1.0\n",
      "\n"
     ]
    }
   ],
   "source": [
    "# Last but not least, you can read in data from a file and convert it to an object\n",
    "# using the object of interest and the dedicated method of the format\n",
    "\n",
    "# We will use XML since it requires some special treatment. All others can be read\n",
    "# without byte reading!\n",
    "\n",
    "with open(\"dataset.xml\", \"rb\") as f:\n",
    "    parsed = lib.MyObject.from_xml(f)\n",
    "    \n",
    "print(parsed)"
   ]
  },
  {
   "cell_type": "markdown",
   "metadata": {},
   "source": [
    "### 🎉 \n",
    "\n",
    "Thats it! You now know how to use sdRDM to create, edit and export objects"
   ]
  }
 ],
 "metadata": {
  "kernelspec": {
   "display_name": "sdrdmtest",
   "language": "python",
   "name": "python3"
  },
  "language_info": {
   "codemirror_mode": {
    "name": "ipython",
    "version": 3
   },
   "file_extension": ".py",
   "mimetype": "text/x-python",
   "name": "python",
   "nbconvert_exporter": "python",
   "pygments_lexer": "ipython3",
   "version": "3.10.13"
  }
 },
 "nbformat": 4,
 "nbformat_minor": 2
}
